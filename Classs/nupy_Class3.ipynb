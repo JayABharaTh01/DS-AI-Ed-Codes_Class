{
  "nbformat": 4,
  "nbformat_minor": 0,
  "metadata": {
    "colab": {
      "provenance": []
    },
    "kernelspec": {
      "name": "python3",
      "display_name": "Python 3"
    },
    "language_info": {
      "name": "python"
    }
  },
  "cells": [
    {
      "cell_type": "code",
      "execution_count": 3,
      "metadata": {
        "id": "c7lIn5vswWxo"
      },
      "outputs": [],
      "source": [
        "import numpy as np\n",
        "import math\n",
        "import random"
      ]
    },
    {
      "cell_type": "markdown",
      "source": [
        "np.eye(),np.arange(),np.zeros(),np.ones(),\n",
        "np.lineinch(),"
      ],
      "metadata": {
        "id": "JuYQ-ZhZxQp5"
      }
    },
    {
      "cell_type": "code",
      "source": [
        "data=np.random.randint(0,10,(4,4))\n",
        "data"
      ],
      "metadata": {
        "colab": {
          "base_uri": "https://localhost:8080/"
        },
        "id": "P1RubISq6FhG",
        "outputId": "41acf8af-5cb9-47cb-b7f3-0c96b21bb2ba"
      },
      "execution_count": null,
      "outputs": [
        {
          "output_type": "execute_result",
          "data": {
            "text/plain": [
              "array([[8, 7, 3, 3],\n",
              "       [9, 0, 2, 5],\n",
              "       [9, 9, 9, 6],\n",
              "       [3, 9, 9, 1]])"
            ]
          },
          "metadata": {},
          "execution_count": 4
        }
      ]
    },
    {
      "cell_type": "code",
      "source": [
        "print(np.zeros(4))\n",
        "print(np.zeros((2,2)))"
      ],
      "metadata": {
        "colab": {
          "base_uri": "https://localhost:8080/"
        },
        "id": "L9qjNc6L6QZM",
        "outputId": "e24962d5-b48d-4d34-d609-b384c6a18890"
      },
      "execution_count": null,
      "outputs": [
        {
          "output_type": "stream",
          "name": "stdout",
          "text": [
            "[0. 0. 0. 0.]\n",
            "[[0. 0.]\n",
            " [0. 0.]]\n"
          ]
        }
      ]
    },
    {
      "cell_type": "code",
      "source": [
        "print(np.ones(3))\n",
        "print(np.ones((2,2)))"
      ],
      "metadata": {
        "colab": {
          "base_uri": "https://localhost:8080/"
        },
        "id": "DGSUCor-6kcs",
        "outputId": "9a5b4aeb-36c7-4c51-8c3f-cb5364ec3f84"
      },
      "execution_count": null,
      "outputs": [
        {
          "output_type": "stream",
          "name": "stdout",
          "text": [
            "[1. 1. 1.]\n",
            "[[1. 1.]\n",
            " [1. 1.]]\n"
          ]
        }
      ]
    },
    {
      "cell_type": "code",
      "source": [
        "print(np.arange(3))\n",
        "print(np.arange(1,9))\n",
        "'''\n",
        "The error in the selected code is a TypeError.\n",
        "The np.arange() function expects scalar arguments (single numbers) to define the start,\n",
        "stop, and step of the range. However, in the last line, you provided a tuple (4,4)\n",
        "which is not a valid argument for np.arange().'''\n",
        "print(np.arange((4,4)))"
      ],
      "metadata": {
        "colab": {
          "base_uri": "https://localhost:8080/",
          "height": 220
        },
        "id": "nhyqK7qV6sWp",
        "outputId": "c0e24310-cc81-4f2b-de19-778d94b35b70"
      },
      "execution_count": null,
      "outputs": [
        {
          "output_type": "stream",
          "name": "stdout",
          "text": [
            "[0 1 2]\n",
            "[1 2 3 4 5 6 7 8]\n"
          ]
        },
        {
          "output_type": "error",
          "ename": "TypeError",
          "evalue": "arange: scalar arguments expected instead of a tuple.",
          "traceback": [
            "\u001b[0;31m---------------------------------------------------------------------------\u001b[0m",
            "\u001b[0;31mTypeError\u001b[0m                                 Traceback (most recent call last)",
            "\u001b[0;32m/tmp/ipython-input-1121562117.py\u001b[0m in \u001b[0;36m<cell line: 0>\u001b[0;34m()\u001b[0m\n\u001b[1;32m      6\u001b[0m \u001b[0mstop\u001b[0m\u001b[0;34m,\u001b[0m \u001b[0;32mand\u001b[0m \u001b[0mstep\u001b[0m \u001b[0mof\u001b[0m \u001b[0mthe\u001b[0m \u001b[0mrange\u001b[0m\u001b[0;34m.\u001b[0m \u001b[0mHowever\u001b[0m\u001b[0;34m,\u001b[0m \u001b[0;32min\u001b[0m \u001b[0mthe\u001b[0m \u001b[0mlast\u001b[0m \u001b[0mline\u001b[0m\u001b[0;34m,\u001b[0m \u001b[0myou\u001b[0m \u001b[0mprovided\u001b[0m \u001b[0ma\u001b[0m \u001b[0mtuple\u001b[0m \u001b[0;34m(\u001b[0m\u001b[0;36m4\u001b[0m\u001b[0;34m,\u001b[0m\u001b[0;36m4\u001b[0m\u001b[0;34m)\u001b[0m\u001b[0;34m\u001b[0m\u001b[0;34m\u001b[0m\u001b[0m\n\u001b[1;32m      7\u001b[0m which is not a valid argument for np.arange().'''\n\u001b[0;32m----> 8\u001b[0;31m \u001b[0mprint\u001b[0m\u001b[0;34m(\u001b[0m\u001b[0mnp\u001b[0m\u001b[0;34m.\u001b[0m\u001b[0marange\u001b[0m\u001b[0;34m(\u001b[0m\u001b[0;34m(\u001b[0m\u001b[0;36m4\u001b[0m\u001b[0;34m,\u001b[0m\u001b[0;36m4\u001b[0m\u001b[0;34m)\u001b[0m\u001b[0;34m)\u001b[0m\u001b[0;34m)\u001b[0m\u001b[0;34m\u001b[0m\u001b[0;34m\u001b[0m\u001b[0m\n\u001b[0m",
            "\u001b[0;31mTypeError\u001b[0m: arange: scalar arguments expected instead of a tuple."
          ]
        }
      ]
    },
    {
      "cell_type": "code",
      "source": [
        "print(np.eye(3))\n",
        "print(np.eye(4,4))"
      ],
      "metadata": {
        "colab": {
          "base_uri": "https://localhost:8080/"
        },
        "id": "KSRXFhUC7bB1",
        "outputId": "df419563-da53-4bd9-f895-a5490229bb53"
      },
      "execution_count": null,
      "outputs": [
        {
          "output_type": "stream",
          "name": "stdout",
          "text": [
            "[[1. 0. 0.]\n",
            " [0. 1. 0.]\n",
            " [0. 0. 1.]]\n",
            "[[1. 0. 0. 0.]\n",
            " [0. 1. 0. 0.]\n",
            " [0. 0. 1. 0.]\n",
            " [0. 0. 0. 1.]]\n"
          ]
        }
      ]
    },
    {
      "cell_type": "code",
      "source": [
        "print(np.empty(1))\n",
        "#np.empty((row,col),dtype=int,float)\n",
        "print(np.empty((3,3),dtype=int))\n",
        "print(np.empty((3,3),dtype=float))"
      ],
      "metadata": {
        "colab": {
          "base_uri": "https://localhost:8080/"
        },
        "id": "TPYlVZnQ_OSv",
        "outputId": "cf73bd5a-f6fd-4b48-88a6-41c491164725"
      },
      "execution_count": null,
      "outputs": [
        {
          "output_type": "stream",
          "name": "stdout",
          "text": [
            "[1.82e-321]\n",
            "[[4607182418800017408                   0                   0]\n",
            " [                  0 4607182418800017408                   0]\n",
            " [                  0                   0 4607182418800017408]]\n",
            "[[1. 0. 0.]\n",
            " [0. 1. 0.]\n",
            " [0. 0. 1.]]\n"
          ]
        }
      ]
    },
    {
      "cell_type": "code",
      "source": [
        "#np.full(size,num)\n",
        "print(np.full(3,3))\n",
        "#np.full(size,num),othernumber\n",
        "print(np.full(2,4),6)\n",
        "#print in matrix form\n",
        "#np.full((row,col),num in matrix)\n",
        "print(np.full((3,4),3))"
      ],
      "metadata": {
        "colab": {
          "base_uri": "https://localhost:8080/"
        },
        "id": "Bock5Wo0LzGV",
        "outputId": "f317006d-85c8-4db0-ac3c-00a563083ace"
      },
      "execution_count": null,
      "outputs": [
        {
          "output_type": "stream",
          "name": "stdout",
          "text": [
            "[3 3 3]\n",
            "[4 4] 6\n",
            "[[3 3 3 3]\n",
            " [3 3 3 3]\n",
            " [3 3 3 3]]\n"
          ]
        }
      ]
    },
    {
      "cell_type": "code",
      "source": [
        "print(np.identity(3))#3X3 matrix form\n",
        "#equivalent to np.eye(N)"
      ],
      "metadata": {
        "colab": {
          "base_uri": "https://localhost:8080/"
        },
        "id": "293yRl1gOE-Y",
        "outputId": "1f28aa21-d787-415f-c3ef-28e7b35de88c"
      },
      "execution_count": null,
      "outputs": [
        {
          "output_type": "stream",
          "name": "stdout",
          "text": [
            "[[1. 0. 0.]\n",
            " [0. 1. 0.]\n",
            " [0. 0. 1.]]\n"
          ]
        }
      ]
    },
    {
      "cell_type": "code",
      "source": [
        "print(np.ones_like(3))\n",
        "print(np.ones_like((2,2)))"
      ],
      "metadata": {
        "colab": {
          "base_uri": "https://localhost:8080/"
        },
        "id": "i1xTiPJuO4T-",
        "outputId": "01c89470-d5ab-4d80-b4c1-0b4fb10531e9"
      },
      "execution_count": null,
      "outputs": [
        {
          "output_type": "stream",
          "name": "stdout",
          "text": [
            "1\n",
            "[1 1]\n"
          ]
        }
      ]
    },
    {
      "cell_type": "code",
      "source": [
        "print(np.empty_like(5))\n",
        "print(np.empty_like((3,3),dtype=int))\n",
        "print(np.empty_like((3,3),dtype=float))"
      ],
      "metadata": {
        "colab": {
          "base_uri": "https://localhost:8080/"
        },
        "id": "gexVj6i9PG63",
        "outputId": "f8e27e94-73e9-4503-c6f2-98e2696111de"
      },
      "execution_count": null,
      "outputs": [
        {
          "output_type": "stream",
          "name": "stdout",
          "text": [
            "0\n",
            "[3 3]\n",
            "[1.5e-323 1.5e-323]\n"
          ]
        }
      ]
    },
    {
      "cell_type": "code",
      "source": [
        "print(np.full_like(3,3))\n",
        "print(np.full_like(2,4),6)\n",
        "print(np.full_like((5,5),5))"
      ],
      "metadata": {
        "colab": {
          "base_uri": "https://localhost:8080/"
        },
        "id": "z94M2oH5Pcl2",
        "outputId": "4fdbd51d-1cc3-4976-cdd8-40d4bc8324fd"
      },
      "execution_count": null,
      "outputs": [
        {
          "output_type": "stream",
          "name": "stdout",
          "text": [
            "3\n",
            "4 6\n",
            "[5 5]\n"
          ]
        }
      ]
    },
    {
      "cell_type": "code",
      "source": [
        "#it is similar to range()\n",
        "print(np.arange(10))"
      ],
      "metadata": {
        "colab": {
          "base_uri": "https://localhost:8080/"
        },
        "id": "Vi7hhw1YP_5N",
        "outputId": "e0ab6316-a4f0-427d-f84a-dcc76a959412"
      },
      "execution_count": null,
      "outputs": [
        {
          "output_type": "stream",
          "name": "stdout",
          "text": [
            "[0 1 2 3 4 5 6 7 8 9]\n"
          ]
        }
      ]
    },
    {
      "cell_type": "markdown",
      "source": [
        "np.sin(),np.cos(),np.tan(),np.arccos(),np.arcsin(),np.arctan(),np.log(),np.log10(),np.log2(),np.e(),"
      ],
      "metadata": {
        "id": "N6UHMFkLxn05"
      }
    },
    {
      "cell_type": "code",
      "source": [
        "print(math.pow(np.e,0.2867))\n",
        "print(np.log(math.pow(np.e,0.2867)))"
      ],
      "metadata": {
        "colab": {
          "base_uri": "https://localhost:8080/"
        },
        "id": "JfgDeGdezv0Q",
        "outputId": "d7a2c66a-1502-4a0f-84e4-7367e03363a9"
      },
      "execution_count": null,
      "outputs": [
        {
          "output_type": "stream",
          "name": "stdout",
          "text": [
            "1.3320245461647273\n",
            "0.2867\n"
          ]
        }
      ]
    },
    {
      "cell_type": "code",
      "source": [
        "#np.linespace(start,end,size)\n",
        "print(np.linspace(0,5,5))\n",
        "print(np.linspace([1,4],[3,6],5,axis=1))"
      ],
      "metadata": {
        "colab": {
          "base_uri": "https://localhost:8080/"
        },
        "id": "Knda_ORf8UO1",
        "outputId": "8b428fc6-76e8-4e16-e675-9c1c3d723375"
      },
      "execution_count": null,
      "outputs": [
        {
          "output_type": "stream",
          "name": "stdout",
          "text": [
            "[0.   1.25 2.5  3.75 5.  ]\n",
            "[[1.  1.5 2.  2.5 3. ]\n",
            " [4.  4.5 5.  5.5 6. ]]\n"
          ]
        }
      ]
    },
    {
      "cell_type": "code",
      "source": [
        "print(np.log(10))\n",
        "print(np.log10(10))\n",
        "print(np.log2(10))\n",
        "\n",
        "print(np.logspace(0,3,5))\n",
        "print(np.logspace(0,3,5,base=2))"
      ],
      "metadata": {
        "colab": {
          "base_uri": "https://localhost:8080/"
        },
        "id": "KXcS31AFUSAf",
        "outputId": "6920a643-9cce-488a-a82b-4a28f3a192c0"
      },
      "execution_count": null,
      "outputs": [
        {
          "output_type": "stream",
          "name": "stdout",
          "text": [
            "2.302585092994046\n",
            "1.0\n",
            "3.321928094887362\n",
            "[   1.            5.62341325   31.6227766   177.827941   1000.        ]\n",
            "[1.         1.68179283 2.82842712 4.75682846 8.        ]\n"
          ]
        }
      ]
    },
    {
      "cell_type": "code",
      "source": [
        "print(np.geomspace(1,10,3))"
      ],
      "metadata": {
        "colab": {
          "base_uri": "https://localhost:8080/"
        },
        "id": "IWneukJsXr3J",
        "outputId": "f9760986-4910-485a-ff47-7d1976ae9574"
      },
      "execution_count": null,
      "outputs": [
        {
          "output_type": "stream",
          "name": "stdout",
          "text": [
            "[ 1.          3.16227766 10.        ]\n"
          ]
        }
      ]
    },
    {
      "cell_type": "code",
      "source": [
        "print(np.sin(10))\n",
        "print(np.cos(10))\n",
        "print(np.tan(10))"
      ],
      "metadata": {
        "colab": {
          "base_uri": "https://localhost:8080/"
        },
        "id": "JnCsbs1DYvIv",
        "outputId": "63fba6a3-a0d0-4377-e6db-5728fbac729b"
      },
      "execution_count": null,
      "outputs": [
        {
          "output_type": "stream",
          "name": "stdout",
          "text": [
            "-0.5440211108893698\n",
            "-0.8390715290764524\n",
            "0.6483608274590866\n"
          ]
        }
      ]
    },
    {
      "cell_type": "code",
      "source": [
        "print(np.arccos(10))\n",
        "print(np.arcsin(10))\n",
        "print(np.arctan(10))"
      ],
      "metadata": {
        "colab": {
          "base_uri": "https://localhost:8080/"
        },
        "id": "_z4c-NodY42F",
        "outputId": "7340f58b-756f-466e-9698-04e31311ea1b"
      },
      "execution_count": null,
      "outputs": [
        {
          "output_type": "stream",
          "name": "stdout",
          "text": [
            "nan\n",
            "nan\n",
            "1.4711276743037347\n"
          ]
        },
        {
          "output_type": "stream",
          "name": "stderr",
          "text": [
            "/tmp/ipython-input-4255526255.py:1: RuntimeWarning: invalid value encountered in arccos\n",
            "  print(np.arccos(10))\n",
            "/tmp/ipython-input-4255526255.py:2: RuntimeWarning: invalid value encountered in arcsin\n",
            "  print(np.arcsin(10))\n"
          ]
        }
      ]
    },
    {
      "cell_type": "markdown",
      "source": [
        "np.add(),np.subtract(),np.mul(),np.div(),np.floor_div(),np.floor(),"
      ],
      "metadata": {
        "id": "HD3_wClJ0Rm4"
      }
    },
    {
      "cell_type": "code",
      "source": [
        "data=np.random.randint(0,10,10)\n",
        "data"
      ],
      "metadata": {
        "colab": {
          "base_uri": "https://localhost:8080/"
        },
        "id": "Jgw4bDyH17xY",
        "outputId": "9ce95307-fb18-4636-ab2c-2fd8385156ea"
      },
      "execution_count": null,
      "outputs": [
        {
          "output_type": "execute_result",
          "data": {
            "text/plain": [
              "array([4, 0, 4, 4, 3, 5, 7, 3, 9, 1])"
            ]
          },
          "metadata": {},
          "execution_count": 12
        }
      ]
    },
    {
      "cell_type": "code",
      "source": [
        "print(data>5)\n",
        "print(data[data>5])\n",
        "print(data[data<=np.mean(data)])"
      ],
      "metadata": {
        "colab": {
          "base_uri": "https://localhost:8080/"
        },
        "id": "Tu11ZZzp2MSv",
        "outputId": "ef542a4c-a829-4849-e2d9-1ace7ed61527"
      },
      "execution_count": null,
      "outputs": [
        {
          "output_type": "stream",
          "name": "stdout",
          "text": [
            "[False False False False False False  True False  True False]\n",
            "[7 9]\n",
            "[4 0 4 4 3 3 1]\n"
          ]
        }
      ]
    },
    {
      "cell_type": "markdown",
      "source": [
        "## array manipulation ###\n",
        "var.T,var.reshape(row,col),np.hstack(),np.vstack(),np.split(),np.hsplit(),np.vsplit(),"
      ],
      "metadata": {
        "id": "e8_XDV-q3SWK"
      }
    },
    {
      "cell_type": "code",
      "source": [
        "arr = np.array([[1, 2, 3], [4, 5, 6]])\n",
        "print(arr)"
      ],
      "metadata": {
        "colab": {
          "base_uri": "https://localhost:8080/"
        },
        "id": "JKDIa4BVc7sx",
        "outputId": "4743f732-868c-4c02-ca7a-433ca9365e07"
      },
      "execution_count": 4,
      "outputs": [
        {
          "output_type": "stream",
          "name": "stdout",
          "text": [
            "[[1 2 3]\n",
            " [4 5 6]]\n"
          ]
        }
      ]
    },
    {
      "cell_type": "code",
      "source": [
        "print(arr.T)"
      ],
      "metadata": {
        "colab": {
          "base_uri": "https://localhost:8080/"
        },
        "id": "p_0zQ2exiG_X",
        "outputId": "0cff5d8b-8bb0-4954-d99e-4ae58d7072e6"
      },
      "execution_count": null,
      "outputs": [
        {
          "output_type": "stream",
          "name": "stdout",
          "text": [
            "[[1 4]\n",
            " [2 5]\n",
            " [3 6]]\n"
          ]
        }
      ]
    },
    {
      "cell_type": "code",
      "source": [
        "print(arr.reshape(2,3))"
      ],
      "metadata": {
        "colab": {
          "base_uri": "https://localhost:8080/"
        },
        "id": "dIii5Ft8k-xO",
        "outputId": "d7dc31ac-312d-4534-af95-a9599b5a6970"
      },
      "execution_count": null,
      "outputs": [
        {
          "output_type": "stream",
          "name": "stdout",
          "text": [
            "[[1 2 3]\n",
            " [4 5 6]]\n"
          ]
        }
      ]
    },
    {
      "cell_type": "code",
      "source": [
        "print(arr.reshape(3, 2))"
      ],
      "metadata": {
        "colab": {
          "base_uri": "https://localhost:8080/"
        },
        "id": "Tndy-DKLSvPR",
        "outputId": "095efbd9-b164-45d4-f68a-fb7e91f1a831"
      },
      "execution_count": 5,
      "outputs": [
        {
          "output_type": "stream",
          "name": "stdout",
          "text": [
            "[[1 2]\n",
            " [3 4]\n",
            " [5 6]]\n"
          ]
        }
      ]
    },
    {
      "cell_type": "code",
      "source": [
        "arr2 = np.array([[7, 8, 9], [10, 11, 12]])"
      ],
      "metadata": {
        "id": "s-wTyeQcS7AN"
      },
      "execution_count": 6,
      "outputs": []
    },
    {
      "cell_type": "code",
      "source": [
        "print(np.hstack((arr, arr2)))"
      ],
      "metadata": {
        "colab": {
          "base_uri": "https://localhost:8080/"
        },
        "id": "QFqea95RS9ib",
        "outputId": "daad1d40-1e33-485d-d2b7-119964cfe55c"
      },
      "execution_count": 7,
      "outputs": [
        {
          "output_type": "stream",
          "name": "stdout",
          "text": [
            "[[ 1  2  3  7  8  9]\n",
            " [ 4  5  6 10 11 12]]\n"
          ]
        }
      ]
    },
    {
      "cell_type": "code",
      "source": [
        "print(np.vstack((arr, arr2)))"
      ],
      "metadata": {
        "colab": {
          "base_uri": "https://localhost:8080/"
        },
        "id": "lJghdedETBrB",
        "outputId": "4199c38d-e482-40dd-ae1a-6b30b698c528"
      },
      "execution_count": 8,
      "outputs": [
        {
          "output_type": "stream",
          "name": "stdout",
          "text": [
            "[[ 1  2  3]\n",
            " [ 4  5  6]\n",
            " [ 7  8  9]\n",
            " [10 11 12]]\n"
          ]
        }
      ]
    },
    {
      "cell_type": "code",
      "source": [
        "print(np.split(arr, 2))"
      ],
      "metadata": {
        "colab": {
          "base_uri": "https://localhost:8080/"
        },
        "id": "epVFJ_U_TE5x",
        "outputId": "6480482e-9e37-4673-fe1f-979e68676847"
      },
      "execution_count": 9,
      "outputs": [
        {
          "output_type": "stream",
          "name": "stdout",
          "text": [
            "[array([[1, 2, 3]]), array([[4, 5, 6]])]\n"
          ]
        }
      ]
    },
    {
      "cell_type": "code",
      "source": [
        "print(np.hsplit(arr, 3))"
      ],
      "metadata": {
        "colab": {
          "base_uri": "https://localhost:8080/"
        },
        "id": "ExrrcwToTH7N",
        "outputId": "dce8e865-0a05-47f1-bb60-fad730e49914"
      },
      "execution_count": 10,
      "outputs": [
        {
          "output_type": "stream",
          "name": "stdout",
          "text": [
            "[array([[1],\n",
            "       [4]]), array([[2],\n",
            "       [5]]), array([[3],\n",
            "       [6]])]\n"
          ]
        }
      ]
    },
    {
      "cell_type": "code",
      "source": [
        "arr3 = np.array([[1, 2, 3], [4, 5, 6], [7, 8, 9], [10, 11, 12]])\n",
        "print(np.vsplit(arr3, 2))"
      ],
      "metadata": {
        "id": "ls0CJpwzTNbT",
        "outputId": "8ef16cb9-f62a-4730-f2d7-2a4640532645",
        "colab": {
          "base_uri": "https://localhost:8080/"
        }
      },
      "execution_count": 11,
      "outputs": [
        {
          "output_type": "stream",
          "name": "stdout",
          "text": [
            "[array([[1, 2, 3],\n",
            "       [4, 5, 6]]), array([[ 7,  8,  9],\n",
            "       [10, 11, 12]])]\n"
          ]
        }
      ]
    }
  ]
}