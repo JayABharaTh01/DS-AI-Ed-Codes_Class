{
  "nbformat": 4,
  "nbformat_minor": 0,
  "metadata": {
    "colab": {
      "provenance": []
    },
    "kernelspec": {
      "name": "python3",
      "display_name": "Python 3"
    },
    "language_info": {
      "name": "python"
    }
  },
  "cells": [
    {
      "cell_type": "code",
      "execution_count": null,
      "metadata": {
        "id": "tfyHWxOU5PBm"
      },
      "outputs": [],
      "source": [
        "import math\n",
        "import numpy as np"
      ]
    },
    {
      "cell_type": "code",
      "metadata": {
        "colab": {
          "base_uri": "https://localhost:8080/"
        },
        "id": "6abd4a4b",
        "outputId": "ef5d881a-c875-4f53-a972-6f6adfd00467"
      },
      "source": [
        "import math\n",
        "\n",
        "# Using math.pi and math.e\n",
        "print(f\"Value of pi: {math.pi}\")\n",
        "print(f\"Value of e: {math.e}\")\n",
        "\n",
        "# Using basic number-theoretic functions\n",
        "print(f\"Ceiling of 4.2: {math.ceil(4.2)}\")\n",
        "print(f\"Floor of 4.9: {math.floor(4.9)}\")\n",
        "print(f\"Absolute value of -10: {math.fabs(-10)}\")\n",
        "print(f\"Factorial of 5: {math.factorial(5)}\")\n",
        "print(f\"GCD of 48 and 18: {math.gcd(48, 18)}\")\n",
        "print(f\"Square root of 25: {math.sqrt(25)}\")\n"
      ],
      "execution_count": null,
      "outputs": [
        {
          "output_type": "stream",
          "name": "stdout",
          "text": [
            "Value of pi: 3.141592653589793\n",
            "Value of e: 2.718281828459045\n",
            "Ceiling of 4.2: 5\n",
            "Floor of 4.9: 4\n",
            "Absolute value of -10: 10.0\n",
            "Factorial of 5: 120\n",
            "GCD of 48 and 18: 6\n",
            "Square root of 25: 5.0\n"
          ]
        }
      ]
    },
    {
      "cell_type": "code",
      "metadata": {
        "colab": {
          "base_uri": "https://localhost:8080/"
        },
        "id": "89749243",
        "outputId": "4b65b9b0-56e5-4886-ce07-e89a071218da"
      },
      "source": [
        "import math\n",
        "\n",
        "# Using power and logarithmic functions\n",
        "print(f\"2 to the power of 3: {math.pow(2, 3)}\")\n",
        "print(f\"e to the power of 2: {math.exp(2)}\")\n",
        "print(f\"Natural logarithm of 10: {math.log(10)}\")\n",
        "print(f\"Base-10 logarithm of 100: {math.log10(100)}\")"
      ],
      "execution_count": null,
      "outputs": [
        {
          "output_type": "stream",
          "name": "stdout",
          "text": [
            "2 to the power of 3: 8.0\n",
            "e to the power of 2: 7.38905609893065\n",
            "Natural logarithm of 10: 2.302585092994046\n",
            "Base-10 logarithm of 100: 2.0\n"
          ]
        }
      ]
    },
    {
      "cell_type": "code",
      "metadata": {
        "colab": {
          "base_uri": "https://localhost:8080/"
        },
        "id": "ad19226c",
        "outputId": "bf78abfb-9bfb-427a-96f9-5464cbdb4003"
      },
      "source": [
        "import math\n",
        "\n",
        "# Using trigonometric functions (angles in radians)\n",
        "angle_radians = math.radians(60)\n",
        "print(f\"Cosine of 60 degrees: {math.cos(angle_radians)}\")\n",
        "print(f\"Sine of 60 degrees: {math.sin(angle_radians)}\")\n",
        "print(f\"Tangent of 45 degrees: {math.tan(math.radians(45))}\")\n",
        "\n",
        "# Converting between degrees and radians\n",
        "print(f\"90 degrees in radians: {math.radians(90)}\")\n",
        "print(f\"{math.pi} radians in degrees: {math.degrees(math.pi)}\")"
      ],
      "execution_count": null,
      "outputs": [
        {
          "output_type": "stream",
          "name": "stdout",
          "text": [
            "Cosine of 60 degrees: 0.5000000000000001\n",
            "Sine of 60 degrees: 0.8660254037844386\n",
            "Tangent of 45 degrees: 0.9999999999999999\n",
            "90 degrees in radians: 1.5707963267948966\n",
            "3.141592653589793 radians in degrees: 180.0\n"
          ]
        }
      ]
    },
    {
      "cell_type": "code",
      "metadata": {
        "colab": {
          "base_uri": "https://localhost:8080/"
        },
        "id": "c80dba85",
        "outputId": "d8411cac-9272-4815-ae2c-8da261e37a85"
      },
      "source": [
        "import math\n",
        "\n",
        "# Using angular conversion functions\n",
        "print(f\"atan2(1, 1): {math.atan2(1, 1)}\") # Equivalent to atan(1/1)\n",
        "\n",
        "# Using hyperbolic functions\n",
        "print(f\"Hyperbolic cosine of 0: {math.cosh(0)}\")\n",
        "print(f\"Hyperbolic sine of 0: {math.sinh(0)}\")\n",
        "print(f\"Hyperbolic tangent of 0: {math.tanh(0)}\")\n",
        "print(f\"Inverse hyperbolic cosine of 1: {math.acosh(1)}\")\n",
        "print(f\"Inverse hyperbolic sine of 0: {math.asinh(0)}\")\n",
        "print(f\"Inverse hyperbolic tangent of 0: {math.atanh(0)}\")"
      ],
      "execution_count": null,
      "outputs": [
        {
          "output_type": "stream",
          "name": "stdout",
          "text": [
            "atan2(1, 1): 0.7853981633974483\n",
            "Hyperbolic cosine of 0: 1.0\n",
            "Hyperbolic sine of 0: 0.0\n",
            "Hyperbolic tangent of 0: 0.0\n",
            "Inverse hyperbolic cosine of 1: 0.0\n",
            "Inverse hyperbolic sine of 0: 0.0\n",
            "Inverse hyperbolic tangent of 0: 0.0\n"
          ]
        }
      ]
    },
    {
      "cell_type": "code",
      "source": [
        "math.sqrt(456)"
      ],
      "metadata": {
        "colab": {
          "base_uri": "https://localhost:8080/"
        },
        "id": "VWqVFdaP6K3D",
        "outputId": "4f429136-05a2-4172-fdaf-e85d82320b40"
      },
      "execution_count": null,
      "outputs": [
        {
          "output_type": "execute_result",
          "data": {
            "text/plain": [
              "21.354156504062622"
            ]
          },
          "metadata": {},
          "execution_count": 6
        }
      ]
    },
    {
      "cell_type": "code",
      "source": [
        "math.exp(10)"
      ],
      "metadata": {
        "colab": {
          "base_uri": "https://localhost:8080/"
        },
        "id": "GXhWWqMo9BSP",
        "outputId": "cbf2d2ff-c144-4289-e34e-b22c82a30a0d"
      },
      "execution_count": null,
      "outputs": [
        {
          "output_type": "execute_result",
          "data": {
            "text/plain": [
              "22026.465794806718"
            ]
          },
          "metadata": {},
          "execution_count": 7
        }
      ]
    },
    {
      "cell_type": "code",
      "source": [
        "math.exp2(10)"
      ],
      "metadata": {
        "colab": {
          "base_uri": "https://localhost:8080/"
        },
        "id": "k5j7pGMu9G0F",
        "outputId": "8b9e8d9f-65a8-4933-898b-3c499671d85e"
      },
      "execution_count": null,
      "outputs": [
        {
          "output_type": "execute_result",
          "data": {
            "text/plain": [
              "1024.0"
            ]
          },
          "metadata": {},
          "execution_count": 8
        }
      ]
    },
    {
      "cell_type": "code",
      "source": [
        "math.gcd(16,24)"
      ],
      "metadata": {
        "colab": {
          "base_uri": "https://localhost:8080/"
        },
        "id": "PUK6ivgs9n8q",
        "outputId": "7282cd56-2a90-4a60-d2b0-0bb5e238c379"
      },
      "execution_count": null,
      "outputs": [
        {
          "output_type": "execute_result",
          "data": {
            "text/plain": [
              "8"
            ]
          },
          "metadata": {},
          "execution_count": 9
        }
      ]
    },
    {
      "cell_type": "code",
      "source": [
        "\n",
        "for i in range(65,91):\n",
        "  print(chr(i),end=\",\")"
      ],
      "metadata": {
        "colab": {
          "base_uri": "https://localhost:8080/"
        },
        "id": "zt-E4aQ4CEAd",
        "outputId": "02bf4c68-eaf3-4bec-a3a0-f9766f74c030"
      },
      "execution_count": null,
      "outputs": [
        {
          "output_type": "stream",
          "name": "stdout",
          "text": [
            "A,B,C,D,E,F,G,H,I,J,K,L,M,N,O,P,Q,R,S,T,U,V,W,X,Y,Z,"
          ]
        }
      ]
    },
    {
      "cell_type": "code",
      "source": [],
      "metadata": {
        "id": "7FNL0ELiDK-G"
      },
      "execution_count": null,
      "outputs": []
    },
    {
      "cell_type": "code",
      "source": [
        "data=np.random.randint(1,100,(7,4))\n",
        "data"
      ],
      "metadata": {
        "colab": {
          "base_uri": "https://localhost:8080/"
        },
        "id": "V3_cR32PDK0V",
        "outputId": "5bb1b70a-534d-4393-a4c0-043ceff167d3"
      },
      "execution_count": null,
      "outputs": [
        {
          "output_type": "execute_result",
          "data": {
            "text/plain": [
              "array([[70, 59, 65,  6],\n",
              "       [12, 92, 22, 44],\n",
              "       [55, 88, 12, 39],\n",
              "       [91, 62, 90, 19],\n",
              "       [25, 34, 68, 28],\n",
              "       [70, 38, 52, 38],\n",
              "       [70, 43,  1, 26]])"
            ]
          },
          "metadata": {},
          "execution_count": 11
        }
      ]
    },
    {
      "cell_type": "code",
      "source": [
        "type(np.array(data))"
      ],
      "metadata": {
        "colab": {
          "base_uri": "https://localhost:8080/"
        },
        "id": "WH4eMMF-DNI0",
        "outputId": "730abf38-7543-4681-9b55-3edda257c3c4"
      },
      "execution_count": null,
      "outputs": [
        {
          "output_type": "execute_result",
          "data": {
            "text/plain": [
              "numpy.ndarray"
            ]
          },
          "metadata": {},
          "execution_count": 12
        }
      ]
    },
    {
      "cell_type": "code",
      "source": [
        "print(data[-3:,-3:])\n",
        "data[-3:-1,-3:-1]"
      ],
      "metadata": {
        "colab": {
          "base_uri": "https://localhost:8080/"
        },
        "id": "hwNXJjK_DYLi",
        "outputId": "338ea69b-314d-42f3-8ca2-36124bf04b5a"
      },
      "execution_count": null,
      "outputs": [
        {
          "output_type": "stream",
          "name": "stdout",
          "text": [
            "[[34 68 28]\n",
            " [38 52 38]\n",
            " [43  1 26]]\n"
          ]
        },
        {
          "output_type": "execute_result",
          "data": {
            "text/plain": [
              "array([[34, 68],\n",
              "       [38, 52]])"
            ]
          },
          "metadata": {},
          "execution_count": 13
        }
      ]
    },
    {
      "cell_type": "code",
      "source": [
        "data[-2:-1,-2:-1]"
      ],
      "metadata": {
        "colab": {
          "base_uri": "https://localhost:8080/"
        },
        "id": "YO-UK94AD6WW",
        "outputId": "d0fe8967-218e-42ba-c901-46b62d3dbfd6"
      },
      "execution_count": null,
      "outputs": [
        {
          "output_type": "execute_result",
          "data": {
            "text/plain": [
              "array([[52]])"
            ]
          },
          "metadata": {},
          "execution_count": 14
        }
      ]
    },
    {
      "cell_type": "code",
      "source": [],
      "metadata": {
        "id": "w7sVSk5fD_iz"
      },
      "execution_count": null,
      "outputs": []
    },
    {
      "cell_type": "markdown",
      "metadata": {
        "id": "b5232573"
      },
      "source": [
        "### 1. Homogeneous vs. Heterogeneous Data\n",
        "This example shows that a NumPy array can only hold elements of the same data type, while a Python list can hold elements of different data types."
      ]
    },
    {
      "cell_type": "code",
      "metadata": {
        "colab": {
          "base_uri": "https://localhost:8080/"
        },
        "id": "780dbf33",
        "outputId": "46210977-caf2-4a26-8db9-0b44deaf3b6b"
      },
      "source": [
        "import numpy as np\n",
        "\n",
        "# NumPy array (homogeneous)\n",
        "numpy_array = np.array([1, 2, 3, 4])\n",
        "print(\"NumPy array:\", numpy_array)\n",
        "print(\"Data type of NumPy array elements:\", numpy_array.dtype)\n",
        "\n",
        "# Attempting to add a different data type to a NumPy array\n",
        "# NumPy will try to find a common data type or raise an error\n",
        "numpy_array_mixed = np.array([1, 'hello', 3.0])\n",
        "print(\"NumPy array with mixed types:\", numpy_array_mixed)\n",
        "print(\"Data type of NumPy array with mixed types:\", numpy_array_mixed.dtype)\n",
        "\n",
        "\n",
        "# Python list (heterogeneous)\n",
        "python_list = [1, 'hello', 3.0, True]\n",
        "print(\"\\nPython list:\", python_list)"
      ],
      "execution_count": null,
      "outputs": [
        {
          "output_type": "stream",
          "name": "stdout",
          "text": [
            "NumPy array: [1 2 3 4]\n",
            "Data type of NumPy array elements: int64\n",
            "NumPy array with mixed types: ['1' 'hello' '3.0']\n",
            "Data type of NumPy array with mixed types: <U32\n",
            "\n",
            "Python list: [1, 'hello', 3.0, True]\n"
          ]
        }
      ]
    },
    {
      "cell_type": "markdown",
      "metadata": {
        "id": "ca6ea7c2"
      },
      "source": [
        "### 2. Performance\n",
        "This example demonstrates the performance difference between NumPy arrays and Python lists for a simple arithmetic operation on a large number of elements."
      ]
    },
    {
      "cell_type": "code",
      "metadata": {
        "colab": {
          "base_uri": "https://localhost:8080/"
        },
        "id": "ef503293",
        "outputId": "c8075a5a-d219-46af-9516-ac10d991600e"
      },
      "source": [
        "import time\n",
        "\n",
        "# Using NumPy array\n",
        "numpy_array_perf = np.arange(1000000)\n",
        "start_time = time.time()\n",
        "numpy_array_perf = numpy_array_perf * 2\n",
        "end_time = time.time()\n",
        "print(f\"Time taken for NumPy array operation: {end_time - start_time:.6f} seconds\")\n",
        "\n",
        "# Using Python list\n",
        "python_list_perf = list(range(1000000))\n",
        "start_time = time.time()\n",
        "python_list_perf = [x * 2 for x in python_list_perf]\n",
        "end_time = time.time()\n",
        "print(f\"Time taken for Python list operation: {end_time - start_time:.6f} seconds\")"
      ],
      "execution_count": null,
      "outputs": [
        {
          "output_type": "stream",
          "name": "stdout",
          "text": [
            "Time taken for NumPy array operation: 0.006031 seconds\n",
            "Time taken for Python list operation: 0.121415 seconds\n"
          ]
        }
      ]
    },
    {
      "cell_type": "markdown",
      "metadata": {
        "id": "b6df9a6e"
      },
      "source": [
        "### 3. Functionality\n",
        "This example shows how NumPy provides built-in mathematical functions that operate on the entire array, which is not directly available for Python lists in the same way."
      ]
    },
    {
      "cell_type": "code",
      "metadata": {
        "colab": {
          "base_uri": "https://localhost:8080/"
        },
        "id": "0aa9e94a",
        "outputId": "e6c69f66-543e-487a-e53c-253865b49ea9"
      },
      "source": [
        "# Using NumPy array\n",
        "numpy_array_func = np.array([1, 2, 3, 4])\n",
        "print(\"Original NumPy array:\", numpy_array_func)\n",
        "print(\"Square root of NumPy array elements:\", np.sqrt(numpy_array_func))\n",
        "print(\"Sum of NumPy array elements:\", np.sum(numpy_array_func))\n",
        "\n",
        "# Using Python list (requires looping or list comprehension for element-wise operations)\n",
        "python_list_func = [1, 2, 3, 4]\n",
        "print(\"\\nOriginal Python list:\", python_list_func)\n",
        "# print(\"Square root of Python list elements:\", math.sqrt(python_list_func)) # This would cause an error\n",
        "print(\"Square root of Python list elements:\", [math.sqrt(x) for x in python_list_func])\n",
        "print(\"Sum of Python list elements:\", sum(python_list_func))"
      ],
      "execution_count": null,
      "outputs": [
        {
          "output_type": "stream",
          "name": "stdout",
          "text": [
            "Original NumPy array: [1 2 3 4]\n",
            "Square root of NumPy array elements: [1.         1.41421356 1.73205081 2.        ]\n",
            "Sum of NumPy array elements: 10\n",
            "\n",
            "Original Python list: [1, 2, 3, 4]\n",
            "Square root of Python list elements: [1.0, 1.4142135623730951, 1.7320508075688772, 2.0]\n",
            "Sum of Python list elements: 10\n"
          ]
        }
      ]
    },
    {
      "cell_type": "markdown",
      "source": [
        "***Fuctions in numpy ***"
      ],
      "metadata": {
        "id": "LAXNuabQGObd"
      }
    },
    {
      "cell_type": "code",
      "source": [
        "data=np.random.randint(1,100,(7,4))\n",
        "data"
      ],
      "metadata": {
        "colab": {
          "base_uri": "https://localhost:8080/"
        },
        "id": "fCAeFdHAHmjg",
        "outputId": "6a4f97e6-222a-4b3c-b25f-992385e45b13"
      },
      "execution_count": null,
      "outputs": [
        {
          "output_type": "execute_result",
          "data": {
            "text/plain": [
              "array([[69, 39, 36, 29],\n",
              "       [ 5, 28, 32, 55],\n",
              "       [80, 17, 51, 68],\n",
              "       [ 6, 35, 86, 38],\n",
              "       [ 5, 68,  9, 57],\n",
              "       [49, 21,  2, 39],\n",
              "       [62, 36, 13, 91]])"
            ]
          },
          "metadata": {},
          "execution_count": 18
        }
      ]
    },
    {
      "cell_type": "code",
      "source": [
        "# this is scalling of data-it is also called minmaix data or (normilize data)\n",
        "data=np.array([1,2,3,4])\n",
        "(data-data.min())/(data.max()-data.min())"
      ],
      "metadata": {
        "colab": {
          "base_uri": "https://localhost:8080/"
        },
        "id": "Xmro0g6UGTw_",
        "outputId": "797795ce-ef7e-4847-deda-5df935e32989"
      },
      "execution_count": null,
      "outputs": [
        {
          "output_type": "execute_result",
          "data": {
            "text/plain": [
              "array([0.        , 0.33333333, 0.66666667, 1.        ])"
            ]
          },
          "metadata": {},
          "execution_count": 19
        }
      ]
    },
    {
      "cell_type": "code",
      "source": [
        "List_2d=[[1,2,3],[4,5,6],[7,8,9]]\n",
        "np.array(List_2d)\n",
        "nparray=np.array(List_2d)\n",
        "print(nparray)\n",
        "print(nparray.shape)\n",
        "print(nparray.ndim)\n",
        "print(nparray.size)\n",
        "#"
      ],
      "metadata": {
        "colab": {
          "base_uri": "https://localhost:8080/"
        },
        "id": "pmrmE4m6HVlz",
        "outputId": "654a77ad-baab-46be-a5a3-fe9d9b4798d2"
      },
      "execution_count": null,
      "outputs": [
        {
          "output_type": "stream",
          "name": "stdout",
          "text": [
            "[[1 2 3]\n",
            " [4 5 6]\n",
            " [7 8 9]]\n",
            "(3, 3)\n",
            "2\n",
            "9\n"
          ]
        }
      ]
    },
    {
      "cell_type": "code",
      "source": [
        "List_3d=[[[1, 2], [3, 4]], [[5, 6], [7, 8]]]\n",
        "np.array(List_3d)\n",
        "print(np.array(List_3d).shape)\n"
      ],
      "metadata": {
        "colab": {
          "base_uri": "https://localhost:8080/"
        },
        "id": "4SfrE_KX9-0f",
        "outputId": "0e6f5079-2ff9-4c08-f188-3599e157b293"
      },
      "execution_count": null,
      "outputs": [
        {
          "output_type": "error",
          "ename": "NameError",
          "evalue": "name 'np' is not defined",
          "traceback": [
            "\u001b[0;31m---------------------------------------------------------------------------\u001b[0m",
            "\u001b[0;31mNameError\u001b[0m                                 Traceback (most recent call last)",
            "\u001b[0;32m/tmp/ipython-input-3513778840.py\u001b[0m in \u001b[0;36m<cell line: 0>\u001b[0;34m()\u001b[0m\n\u001b[1;32m      1\u001b[0m \u001b[0mList_3d\u001b[0m\u001b[0;34m=\u001b[0m\u001b[0;34m[\u001b[0m\u001b[0;34m[\u001b[0m\u001b[0;34m[\u001b[0m\u001b[0;36m1\u001b[0m\u001b[0;34m,\u001b[0m \u001b[0;36m2\u001b[0m\u001b[0;34m]\u001b[0m\u001b[0;34m,\u001b[0m \u001b[0;34m[\u001b[0m\u001b[0;36m3\u001b[0m\u001b[0;34m,\u001b[0m \u001b[0;36m4\u001b[0m\u001b[0;34m]\u001b[0m\u001b[0;34m]\u001b[0m\u001b[0;34m,\u001b[0m \u001b[0;34m[\u001b[0m\u001b[0;34m[\u001b[0m\u001b[0;36m5\u001b[0m\u001b[0;34m,\u001b[0m \u001b[0;36m6\u001b[0m\u001b[0;34m]\u001b[0m\u001b[0;34m,\u001b[0m \u001b[0;34m[\u001b[0m\u001b[0;36m7\u001b[0m\u001b[0;34m,\u001b[0m \u001b[0;36m8\u001b[0m\u001b[0;34m]\u001b[0m\u001b[0;34m]\u001b[0m\u001b[0;34m]\u001b[0m\u001b[0;34m\u001b[0m\u001b[0;34m\u001b[0m\u001b[0m\n\u001b[0;32m----> 2\u001b[0;31m \u001b[0mnp\u001b[0m\u001b[0;34m.\u001b[0m\u001b[0marray\u001b[0m\u001b[0;34m(\u001b[0m\u001b[0mList_3d\u001b[0m\u001b[0;34m)\u001b[0m\u001b[0;34m\u001b[0m\u001b[0;34m\u001b[0m\u001b[0m\n\u001b[0m\u001b[1;32m      3\u001b[0m \u001b[0mprint\u001b[0m\u001b[0;34m(\u001b[0m\u001b[0mnp\u001b[0m\u001b[0;34m.\u001b[0m\u001b[0marray\u001b[0m\u001b[0;34m(\u001b[0m\u001b[0mList_3d\u001b[0m\u001b[0;34m)\u001b[0m\u001b[0;34m.\u001b[0m\u001b[0mshape\u001b[0m\u001b[0;34m)\u001b[0m\u001b[0;34m\u001b[0m\u001b[0;34m\u001b[0m\u001b[0m\n",
            "\u001b[0;31mNameError\u001b[0m: name 'np' is not defined"
          ]
        }
      ]
    },
    {
      "cell_type": "markdown",
      "metadata": {
        "id": "1b23d0f8"
      },
      "source": [
        "### `np.random.randint(low, high, size)`\n",
        "\n",
        "This function generates random *integers* from `low` (inclusive) to `high` (exclusive). The `size` parameter specifies the shape of the output array."
      ]
    },
    {
      "cell_type": "code",
      "metadata": {
        "colab": {
          "base_uri": "https://localhost:8080/"
        },
        "id": "82a8b322",
        "outputId": "3f647757-43a3-4b85-993c-8793f883edbb"
      },
      "source": [
        "import numpy as np\n",
        "\n",
        "# Example 1: Generate a single random integer between 0 and 10 (exclusive of 10)\n",
        "random_integer = np.random.randint(0, 10)\n",
        "print(f\"Single random integer: {random_integer}\")\n",
        "\n",
        "# Example 2: Generate a 2x3 array of random integers between 50 and 100 (exclusive of 100)\n",
        "random_integers_array = np.random.randint(50, 100, size=(2, 3))\n",
        "print(f\"\\n2x3 array of random integers:\\n{random_integers_array}\")"
      ],
      "execution_count": null,
      "outputs": [
        {
          "output_type": "stream",
          "name": "stdout",
          "text": [
            "Single random integer: 1\n",
            "\n",
            "2x3 array of random integers:\n",
            "[[99 63 88]\n",
            " [70 97 62]]\n"
          ]
        }
      ]
    },
    {
      "cell_type": "markdown",
      "metadata": {
        "id": "3c6a7156"
      },
      "source": [
        "### `np.random.rand(d0, d1, ..., dn)`\n",
        "\n",
        "This function generates random samples from a uniform distribution over ``[0, 1)``. The arguments `d0, d1, ..., dn` specify the dimensions of the output array."
      ]
    },
    {
      "cell_type": "code",
      "metadata": {
        "colab": {
          "base_uri": "https://localhost:8080/"
        },
        "id": "852c8c16",
        "outputId": "305b3efe-36d3-403e-8bcb-b889fe0d5a45"
      },
      "source": [
        "import numpy as np\n",
        "\n",
        "# Example 1: Generate a single random float between 0 and 1\n",
        "random_float = np.random.rand()\n",
        "print(f\"Single random float (uniform distribution): {random_float}\")\n",
        "\n",
        "# Example 2: Generate a 3x2 array of random floats between 0 and 1\n",
        "random_floats_array = np.random.rand(3, 2)\n",
        "print(f\"\\n3x2 array of random floats (uniform distribution):\\n{random_floats_array}\")"
      ],
      "execution_count": null,
      "outputs": [
        {
          "output_type": "stream",
          "name": "stdout",
          "text": [
            "Single random float (uniform distribution): 0.45979206286020124\n",
            "\n",
            "3x2 array of random floats (uniform distribution):\n",
            "[[0.73395524 0.27211885]\n",
            " [0.42083002 0.46911727]\n",
            " [0.17257146 0.50861903]]\n"
          ]
        }
      ]
    },
    {
      "cell_type": "markdown",
      "metadata": {
        "id": "201e9e46"
      },
      "source": [
        "### `np.random.randn(d0, d1, ..., dn)`\n",
        "\n",
        "This function generates random samples from the \"standard normal\" distribution (mean 0, variance 1). The arguments `d0, d1, ..., dn` specify the dimensions of the output array."
      ]
    },
    {
      "cell_type": "code",
      "metadata": {
        "colab": {
          "base_uri": "https://localhost:8080/"
        },
        "id": "265a8be9",
        "outputId": "14a7675b-e1d9-4d9e-f2cd-554c799d4cc8"
      },
      "source": [
        "import numpy as np\n",
        "\n",
        "# Example 1: Generate a single random float from the standard normal distribution\n",
        "random_normal_float = np.random.randn()\n",
        "print(f\"Single random float (standard normal distribution): {random_normal_float}\")\n",
        "\n",
        "# Example 2: Generate a 4-element 1D array of random floats from the standard normal distribution\n",
        "random_normal_array = np.random.randn(4)\n",
        "print(f\"\\n4-element array of random floats (standard normal distribution): {random_normal_array}\")"
      ],
      "execution_count": null,
      "outputs": [
        {
          "output_type": "stream",
          "name": "stdout",
          "text": [
            "Single random float (standard normal distribution): -0.3364910530065847\n",
            "\n",
            "4-element array of random floats (standard normal distribution): [-0.22941881 -0.94639314  1.19528472  1.46846641]\n"
          ]
        }
      ]
    },
    {
      "cell_type": "code",
      "source": [
        "data=np.random.randint(1,100,(7,4))\n",
        "data"
      ],
      "metadata": {
        "colab": {
          "base_uri": "https://localhost:8080/"
        },
        "id": "K1lYGysPeGSr",
        "outputId": "c84cdea5-ffa5-49ea-ffb5-054b9941f819"
      },
      "execution_count": null,
      "outputs": [
        {
          "output_type": "execute_result",
          "data": {
            "text/plain": [
              "array([[48, 79, 89, 22],\n",
              "       [90, 84, 27, 71],\n",
              "       [99, 69, 67, 26],\n",
              "       [66, 69, 87, 40],\n",
              "       [47, 66, 63, 22],\n",
              "       [35,  4,  9, 42],\n",
              "       [92, 92, 53, 76]])"
            ]
          },
          "metadata": {},
          "execution_count": 3
        }
      ]
    },
    {
      "cell_type": "code",
      "source": [
        "print(data)"
      ],
      "metadata": {
        "colab": {
          "base_uri": "https://localhost:8080/"
        },
        "id": "j3r5tZfDelTT",
        "outputId": "3495c97f-4528-40a1-e250-cbcd4f8c5410"
      },
      "execution_count": null,
      "outputs": [
        {
          "output_type": "stream",
          "name": "stdout",
          "text": [
            "[[48 79 89 22]\n",
            " [90 84 27 71]\n",
            " [99 69 67 26]\n",
            " [66 69 87 40]\n",
            " [47 66 63 22]\n",
            " [35  4  9 42]\n",
            " [92 92 53 76]]\n"
          ]
        }
      ]
    },
    {
      "cell_type": "code",
      "source": [
        "type(np.array(data))"
      ],
      "metadata": {
        "colab": {
          "base_uri": "https://localhost:8080/"
        },
        "id": "gGkY_KhqeGC_",
        "outputId": "12deb98e-3ac0-4c88-9209-9b5449d7e909"
      },
      "execution_count": null,
      "outputs": [
        {
          "output_type": "execute_result",
          "data": {
            "text/plain": [
              "numpy.ndarray"
            ]
          },
          "metadata": {},
          "execution_count": 4
        }
      ]
    },
    {
      "cell_type": "code",
      "source": [
        "print(data[0,0])\n",
        "print(data[-3:,-3:])\n",
        "print(data[-3:-1,-3:-1])\n",
        "print(data[-2:,-3:])"
      ],
      "metadata": {
        "colab": {
          "base_uri": "https://localhost:8080/"
        },
        "id": "O3rfMoqUeVAJ",
        "outputId": "0681305a-8158-4c58-dff6-1b2dd0abece9"
      },
      "execution_count": null,
      "outputs": [
        {
          "output_type": "stream",
          "name": "stdout",
          "text": [
            "48\n",
            "[[66 63 22]\n",
            " [ 4  9 42]\n",
            " [92 53 76]]\n",
            "[[66 63]\n",
            " [ 4  9]]\n",
            "[[ 4  9 42]\n",
            " [92 53 76]]\n"
          ]
        }
      ]
    },
    {
      "cell_type": "code",
      "source": [
        "np.random.randint(0,100,(5,5))"
      ],
      "metadata": {
        "colab": {
          "base_uri": "https://localhost:8080/"
        },
        "id": "mV2JpJILe3Za",
        "outputId": "c61dace7-d9b5-4ccb-da29-64a62d7e151b"
      },
      "execution_count": null,
      "outputs": [
        {
          "output_type": "execute_result",
          "data": {
            "text/plain": [
              "array([[66, 37, 49, 96, 57],\n",
              "       [46, 24, 51, 84, 94],\n",
              "       [31, 55, 25, 22, 40],\n",
              "       [83, 26, 41, 26, 93],\n",
              "       [65, 91, 80, 35, 64]])"
            ]
          },
          "metadata": {},
          "execution_count": 12
        }
      ]
    },
    {
      "cell_type": "code",
      "source": [
        "np.random.rand(5,5)"
      ],
      "metadata": {
        "colab": {
          "base_uri": "https://localhost:8080/"
        },
        "id": "TlGwa0aCe_IU",
        "outputId": "2b26a2c6-40ec-4f8e-af00-ecb2056b02db"
      },
      "execution_count": null,
      "outputs": [
        {
          "output_type": "execute_result",
          "data": {
            "text/plain": [
              "array([[0.4004791 , 0.72193982, 0.99887021, 0.21250307, 0.2125227 ],\n",
              "       [0.25961557, 0.00723068, 0.77711993, 0.3595405 , 0.42508319],\n",
              "       [0.89233081, 0.10965526, 0.6404474 , 0.73326607, 0.57373938],\n",
              "       [0.09657621, 0.555665  , 0.87419294, 0.20203824, 0.82101942],\n",
              "       [0.97373125, 0.2028734 , 0.7807509 , 0.5647509 , 0.04832783]])"
            ]
          },
          "metadata": {},
          "execution_count": 13
        }
      ]
    },
    {
      "cell_type": "code",
      "source": [],
      "metadata": {
        "id": "5AoCgbj8fBqN"
      },
      "execution_count": null,
      "outputs": []
    }
  ]
}